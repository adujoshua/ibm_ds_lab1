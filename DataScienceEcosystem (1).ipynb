{
 "cells": [
  {
   "cell_type": "code",
   "execution_count": null,
   "metadata": {
    "id": "3Q-yy41pg_dV"
   },
   "outputs": [],
   "source": []
  },
  {
   "cell_type": "markdown",
   "metadata": {
    "id": "ArfzZymvTuPI"
   },
   "source": []
  },
  {
   "cell_type": "markdown",
   "metadata": {
    "id": "r_TDuEmhiJ10"
   },
   "source": [
    "# Data Science Tools and Ecosystem"
   ]
  },
  {
   "cell_type": "markdown",
   "metadata": {
    "id": "7IyMhTpHig8D"
   },
   "source": [
    "### In this notebook, I will introduce you to the summary of the data science ecosystem.\n",
    "\n",
    "\n"
   ]
  },
  {
   "cell_type": "markdown",
   "metadata": {
    "id": "NxRxfR_XissB"
   },
   "source": [
    "### Some of the popular programming languages that Data Scientists use are listed below:\n",
    "\n",
    "1.   Python\n",
    "2.   R\n",
    "3.   Scala\n",
    "4.   Julia"
   ]
  },
  {
   "cell_type": "markdown",
   "metadata": {
    "id": "yLSFNQw6jtcO"
   },
   "source": [
    "## Some of the commonly used libraries used by Data Scientists include:\n",
    "\n",
    "\n",
    "1.   Panda\n",
    "2.   Numpy\n",
    "3.   Seaborn\n",
    "4.   Matplotlib\n",
    "5.   Scikit Learn\n",
    "6.   Keras\n",
    "7.   Scipy\n",
    "8.   Stats\n",
    "\n",
    "\n",
    "\n",
    "\n",
    "\n",
    "\n"
   ]
  },
  {
   "cell_type": "markdown",
   "metadata": {
    "id": "kwerIxPOktIh"
   },
   "source": [
    "Data Science Tools \n",
    "|-------------------|\n",
    "|mysql|\n",
    "|apache hive|\n",
    "|MongoDB|\n",
    "|Kibana|"
   ]
  },
  {
   "cell_type": "markdown",
   "metadata": {
    "id": "bEmyAwsazzB3"
   },
   "source": [
    "### Below are a few examples of evaluating arithmetic expressions in Python"
   ]
  },
  {
   "cell_type": "code",
   "execution_count": 4,
   "metadata": {
    "colab": {
     "base_uri": "https://localhost:8080/"
    },
    "id": "XoI-tmQu12xK",
    "outputId": "7b56df23-72e4-46ad-8a67-107014c01479"
   },
   "outputs": [
    {
     "data": {
      "text/plain": [
       "17"
      ]
     },
     "execution_count": 4,
     "metadata": {},
     "output_type": "execute_result"
    }
   ],
   "source": [
    "# This a simple arithmetic expression to mutiply then add integers\n",
    "\n",
    "(3*4)+5"
   ]
  },
  {
   "cell_type": "markdown",
   "metadata": {},
   "source": [
    "#### Exercise 8 - Create a code cell to multiply and add numbers"
   ]
  },
  {
   "cell_type": "code",
   "execution_count": 5,
   "metadata": {
    "colab": {
     "base_uri": "https://localhost:8080/"
    },
    "id": "HCVUgZoU2Kze",
    "outputId": "0b455821-13a7-4f05-bc62-3907b2b8d5f7"
   },
   "outputs": [
    {
     "name": "stdout",
     "output_type": "stream",
     "text": [
      "3.3333333333333335\n"
     ]
    }
   ],
   "source": [
    "# This will convert 200 minutes to hours by diving by 60\n",
    "\n",
    "hours = 200/60\n",
    "print(hours)"
   ]
  },
  {
   "cell_type": "markdown",
   "metadata": {
    "id": "oPpwkCMY3nAg"
   },
   "source": [
    "# Objectives:\n",
    "## Some items covered in this notebook are:\n",
    "\n",
    "* mark-up language in jupyter lab\n",
    "* popular languages that Data Scientists\n",
    "* commonly used libraries used by Data Scientists\n",
    "* arithmentic operations in jupyter notebook\n"
   ]
  },
  {
   "cell_type": "markdown",
   "metadata": {
    "id": "WIV3Oh9s4jbQ"
   },
   "source": [
    "## Author\n",
    "Joshua Adu"
   ]
  },
  {
   "cell_type": "code",
   "execution_count": null,
   "metadata": {
    "id": "iC-xweL53A_L"
   },
   "outputs": [],
   "source": []
  },
  {
   "cell_type": "code",
   "execution_count": null,
   "metadata": {},
   "outputs": [],
   "source": []
  },
  {
   "cell_type": "code",
   "execution_count": null,
   "metadata": {},
   "outputs": [],
   "source": []
  },
  {
   "cell_type": "code",
   "execution_count": null,
   "metadata": {},
   "outputs": [],
   "source": []
  },
  {
   "cell_type": "code",
   "execution_count": null,
   "metadata": {},
   "outputs": [],
   "source": []
  },
  {
   "cell_type": "code",
   "execution_count": null,
   "metadata": {},
   "outputs": [],
   "source": []
  },
  {
   "cell_type": "code",
   "execution_count": null,
   "metadata": {},
   "outputs": [],
   "source": []
  },
  {
   "cell_type": "code",
   "execution_count": null,
   "metadata": {},
   "outputs": [],
   "source": []
  },
  {
   "cell_type": "code",
   "execution_count": null,
   "metadata": {},
   "outputs": [],
   "source": []
  },
  {
   "cell_type": "code",
   "execution_count": null,
   "metadata": {},
   "outputs": [],
   "source": []
  }
 ],
 "metadata": {
  "colab": {
   "provenance": []
  },
  "kernelspec": {
   "display_name": "Python 3 (ipykernel)",
   "language": "python",
   "name": "python3"
  },
  "language_info": {
   "codemirror_mode": {
    "name": "ipython",
    "version": 3
   },
   "file_extension": ".py",
   "mimetype": "text/x-python",
   "name": "python",
   "nbconvert_exporter": "python",
   "pygments_lexer": "ipython3",
   "version": "3.12.2"
  }
 },
 "nbformat": 4,
 "nbformat_minor": 4
}
