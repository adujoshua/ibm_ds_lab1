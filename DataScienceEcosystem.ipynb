{
  "nbformat": 4,
  "nbformat_minor": 0,
  "metadata": {
    "colab": {
      "provenance": []
    },
    "kernelspec": {
      "name": "python3",
      "display_name": "Python 3"
    },
    "language_info": {
      "name": "python"
    }
  },
  "cells": [
    {
      "cell_type": "code",
      "execution_count": null,
      "metadata": {
        "id": "3Q-yy41pg_dV"
      },
      "outputs": [],
      "source": []
    },
    {
      "cell_type": "markdown",
      "source": [
        "# Data Science Tools and Ecosystem"
      ],
      "metadata": {
        "id": "r_TDuEmhiJ10"
      }
    },
    {
      "cell_type": "markdown",
      "source": [
        "### In this notebook, Data Science Tools and Ecosystem are summarized.\n",
        "\n",
        "\n",
        "\n"
      ],
      "metadata": {
        "id": "7IyMhTpHig8D"
      }
    },
    {
      "cell_type": "markdown",
      "source": [
        "### Some of the popular languages that Data Scientists use are:\n",
        "\n",
        "1.   Python\n",
        "2.   R\n",
        "3.   Scala\n",
        "4.   Julia"
      ],
      "metadata": {
        "id": "NxRxfR_XissB"
      }
    },
    {
      "cell_type": "markdown",
      "source": [
        "## Some of the commonly used libraries used by Data Scientists include:\n",
        "\n",
        "\n",
        "1.   Panda\n",
        "2.   Numpy\n",
        "3.   Seaborn\n",
        "4.   Matplotlib\n",
        "5.   Scikit Learn\n",
        "6.   Keras\n",
        "7.   Scipy\n",
        "8.   Stats\n",
        "\n",
        "\n",
        "\n",
        "\n",
        "\n",
        "\n"
      ],
      "metadata": {
        "id": "yLSFNQw6jtcO"
      }
    },
    {
      "cell_type": "markdown",
      "source": [
        "| Data Science Tools |\n",
        "--------------------\n",
        "|mysql|\n",
        "|apache hive|\n",
        "|MongoDB|\n",
        "|Kibana|"
      ],
      "metadata": {
        "id": "kwerIxPOktIh"
      }
    },
    {
      "cell_type": "markdown",
      "source": [
        "### Below are a few examples of evaluating arithmetic expressions in Python"
      ],
      "metadata": {
        "id": "bEmyAwsazzB3"
      }
    },
    {
      "cell_type": "code",
      "source": [
        "# This a simple arithmetic expression to mutiply then add integers\n",
        "\n",
        "(3*4)+5"
      ],
      "metadata": {
        "colab": {
          "base_uri": "https://localhost:8080/"
        },
        "id": "XoI-tmQu12xK",
        "outputId": "7b56df23-72e4-46ad-8a67-107014c01479"
      },
      "execution_count": 1,
      "outputs": [
        {
          "output_type": "execute_result",
          "data": {
            "text/plain": [
              "17"
            ]
          },
          "metadata": {},
          "execution_count": 1
        }
      ]
    },
    {
      "cell_type": "code",
      "source": [
        "# This will convert 200 minutes to hours by diving by 60\n",
        "\n",
        "hours = 200/60\n",
        "print(hours)"
      ],
      "metadata": {
        "colab": {
          "base_uri": "https://localhost:8080/"
        },
        "id": "HCVUgZoU2Kze",
        "outputId": "0b455821-13a7-4f05-bc62-3907b2b8d5f7"
      },
      "execution_count": 7,
      "outputs": [
        {
          "output_type": "stream",
          "name": "stdout",
          "text": [
            "3.3333333333333335\n"
          ]
        }
      ]
    },
    {
      "cell_type": "markdown",
      "source": [
        "# Objectives:\n",
        "## Some items covered in this notebook are:\n",
        "\n",
        "* mark-up language in jupyter lab\n",
        "* popular languages that Data Scientists\n",
        "* commonly used libraries used by Data Scientists\n",
        "* arithmentic operations in jupyter notebook\n"
      ],
      "metadata": {
        "id": "oPpwkCMY3nAg"
      }
    },
    {
      "cell_type": "markdown",
      "source": [
        "## Author\n",
        "Joshua Adu"
      ],
      "metadata": {
        "id": "WIV3Oh9s4jbQ"
      }
    },
    {
      "cell_type": "code",
      "source": [],
      "metadata": {
        "id": "iC-xweL53A_L"
      },
      "execution_count": null,
      "outputs": []
    }
  ]
}